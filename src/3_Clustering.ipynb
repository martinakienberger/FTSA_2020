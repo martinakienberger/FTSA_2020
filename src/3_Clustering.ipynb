{
 "cells": [
  {
   "cell_type": "code",
   "execution_count": 1,
   "metadata": {},
   "outputs": [
    {
     "name": "stdout",
     "output_type": "stream",
     "text": [
      "Populating the interactive namespace from numpy and matplotlib\n"
     ]
    }
   ],
   "source": [
    "import pandas as pd\n",
    "import pickle\n",
    "from sklearn.cluster import AgglomerativeClustering\n",
    "from scipy.cluster.hierarchy import dendrogram\n",
    "%pylab inline"
   ]
  },
  {
   "cell_type": "code",
   "execution_count": 2,
   "metadata": {},
   "outputs": [],
   "source": [
    "data = pickle.load( open( \"../data/Voc_strat_text.pickle\", \"rb\" ) )"
   ]
  },
  {
   "cell_type": "code",
   "execution_count": 3,
   "metadata": {},
   "outputs": [],
   "source": [
    "nmf_df = pd.read_csv('../data/NMF_topic_n.csv')"
   ]
  },
  {
   "cell_type": "markdown",
   "metadata": {},
   "source": [
    "### Functions"
   ]
  },
  {
   "cell_type": "code",
   "execution_count": 4,
   "metadata": {},
   "outputs": [],
   "source": [
    "def plot_dendrogram(model, **kwargs):\n",
    "    # Create linkage matrix and then plot the dendrogram\n",
    "\n",
    "    # create the counts of samples under each node\n",
    "    counts = np.zeros(model.children_.shape[0])\n",
    "    n_samples = len(model.labels_)\n",
    "    for i, merge in enumerate(model.children_):\n",
    "        current_count = 0\n",
    "        for child_idx in merge:\n",
    "            if child_idx < n_samples:\n",
    "                current_count += 1  # leaf node\n",
    "            else:\n",
    "                current_count += counts[child_idx - n_samples]\n",
    "        counts[i] = current_count\n",
    "\n",
    "    linkage_matrix = np.column_stack([model.children_, model.distances_,\n",
    "                                      counts]).astype(float)\n",
    "\n",
    "    # Plot the corresponding dendrogram\n",
    "    dendrogram(linkage_matrix, **kwargs)"
   ]
  },
  {
   "cell_type": "markdown",
   "metadata": {},
   "source": [
    "### Hierarchical Clustering\n",
    "\n",
    "#### Dendogram"
   ]
  },
  {
   "cell_type": "code",
   "execution_count": 7,
   "metadata": {},
   "outputs": [
    {
     "data": {
      "image/png": "[encoded data removed]",
      "text/plain": [
       "<Figure size 720x432 with 1 Axes>"
      ]
     },
     "metadata": {
      "needs_background": "light"
     },
     "output_type": "display_data"
    }
   ],
   "source": [
    "# setting distance_threshold=0 ensures we compute the full tree.\n",
    "model = AgglomerativeClustering(distance_threshold=0, n_clusters=None)\n",
    "\n",
    "model = model.fit(nmf_df[nmf_df.columns[1:]])\n",
    "plt.figure(figsize=(10,6))\n",
    "plt.title('Hierarchical Clustering Dendrogram')\n",
    "# plot the top three levels of the dendrogram\n",
    "plot_dendrogram(model, truncate_mode='level', p=3)\n",
    "plt.xlabel(\"Number of points in node (or index of point if no parenthesis).\")\n",
    "plt.show()"
   ]
  },
  {
   "cell_type": "code",
   "execution_count": 8,
   "metadata": {},
   "outputs": [],
   "source": [
    "topics = list(nmf_df.columns[1:5])\n",
    "n_clusters = 4\n",
    "clusters = ['Cluster {}'.format(i+1) for i in range(n_clusters)]\n",
    "ward = AgglomerativeClustering(n_clusters=n_clusters).fit(nmf_df[topics])\n",
    "dict_cl = {0:'Cluster 2', 1:'Cluster 1', 2:'Cluster 3', 3:'Cluster 4'}\n",
    "nmf_df['labels'] = [dict_cl[l] for l in ward.labels_]"
   ]
  },
  {
   "cell_type": "code",
   "execution_count": 9,
   "metadata": {},
   "outputs": [
    {
     "data": {
      "text/html": [
       "<div>\n",
       "<style scoped>\n",
       "    .dataframe tbody tr th:only-of-type {\n",
       "        vertical-align: middle;\n",
       "    }\n",
       "\n",
       "    .dataframe tbody tr th {\n",
       "        vertical-align: top;\n",
       "    }\n",
       "\n",
       "    .dataframe thead th {\n",
       "        text-align: right;\n",
       "    }\n",
       "</style>\n",
       "<table border=\"1\" class=\"dataframe\">\n",
       "  <thead>\n",
       "    <tr style=\"text-align: right;\">\n",
       "      <th></th>\n",
       "      <th>Index_survey</th>\n",
       "      <th>EL_CON</th>\n",
       "      <th>SIM_ID</th>\n",
       "      <th>DICC</th>\n",
       "      <th>CON_AM</th>\n",
       "      <th>labels</th>\n",
       "    </tr>\n",
       "  </thead>\n",
       "  <tbody>\n",
       "    <tr>\n",
       "      <th>0</th>\n",
       "      <td>0</td>\n",
       "      <td>0.056030</td>\n",
       "      <td>0.161122</td>\n",
       "      <td>0.000000</td>\n",
       "      <td>0.000000</td>\n",
       "      <td>Cluster 1</td>\n",
       "    </tr>\n",
       "    <tr>\n",
       "      <th>1</th>\n",
       "      <td>1</td>\n",
       "      <td>0.068552</td>\n",
       "      <td>0.025795</td>\n",
       "      <td>0.000000</td>\n",
       "      <td>0.003243</td>\n",
       "      <td>Cluster 2</td>\n",
       "    </tr>\n",
       "    <tr>\n",
       "      <th>2</th>\n",
       "      <td>2</td>\n",
       "      <td>0.020734</td>\n",
       "      <td>0.094008</td>\n",
       "      <td>0.000000</td>\n",
       "      <td>0.054272</td>\n",
       "      <td>Cluster 1</td>\n",
       "    </tr>\n",
       "    <tr>\n",
       "      <th>3</th>\n",
       "      <td>3</td>\n",
       "      <td>0.078123</td>\n",
       "      <td>0.000000</td>\n",
       "      <td>0.000000</td>\n",
       "      <td>0.079309</td>\n",
       "      <td>Cluster 4</td>\n",
       "    </tr>\n",
       "    <tr>\n",
       "      <th>4</th>\n",
       "      <td>4</td>\n",
       "      <td>0.000000</td>\n",
       "      <td>0.159151</td>\n",
       "      <td>0.000000</td>\n",
       "      <td>0.000000</td>\n",
       "      <td>Cluster 1</td>\n",
       "    </tr>\n",
       "    <tr>\n",
       "      <th>...</th>\n",
       "      <td>...</td>\n",
       "      <td>...</td>\n",
       "      <td>...</td>\n",
       "      <td>...</td>\n",
       "      <td>...</td>\n",
       "      <td>...</td>\n",
       "    </tr>\n",
       "    <tr>\n",
       "      <th>382</th>\n",
       "      <td>396</td>\n",
       "      <td>0.068610</td>\n",
       "      <td>0.094619</td>\n",
       "      <td>0.000000</td>\n",
       "      <td>0.015865</td>\n",
       "      <td>Cluster 1</td>\n",
       "    </tr>\n",
       "    <tr>\n",
       "      <th>383</th>\n",
       "      <td>397</td>\n",
       "      <td>0.003780</td>\n",
       "      <td>0.049601</td>\n",
       "      <td>0.103745</td>\n",
       "      <td>0.000000</td>\n",
       "      <td>Cluster 2</td>\n",
       "    </tr>\n",
       "    <tr>\n",
       "      <th>384</th>\n",
       "      <td>398</td>\n",
       "      <td>0.017594</td>\n",
       "      <td>0.102895</td>\n",
       "      <td>0.000000</td>\n",
       "      <td>0.096950</td>\n",
       "      <td>Cluster 1</td>\n",
       "    </tr>\n",
       "    <tr>\n",
       "      <th>385</th>\n",
       "      <td>399</td>\n",
       "      <td>0.117892</td>\n",
       "      <td>0.022495</td>\n",
       "      <td>0.000000</td>\n",
       "      <td>0.000000</td>\n",
       "      <td>Cluster 2</td>\n",
       "    </tr>\n",
       "    <tr>\n",
       "      <th>386</th>\n",
       "      <td>400</td>\n",
       "      <td>0.050217</td>\n",
       "      <td>0.062552</td>\n",
       "      <td>0.000000</td>\n",
       "      <td>0.105142</td>\n",
       "      <td>Cluster 1</td>\n",
       "    </tr>\n",
       "  </tbody>\n",
       "</table>\n",
       "<p>387 rows × 6 columns</p>\n",
       "</div>"
      ],
      "text/plain": [
       "     Index_survey    EL_CON    SIM_ID      DICC    CON_AM     labels\n",
       "0               0  0.056030  0.161122  0.000000  0.000000  Cluster 1\n",
       "1               1  0.068552  0.025795  0.000000  0.003243  Cluster 2\n",
       "2               2  0.020734  0.094008  0.000000  0.054272  Cluster 1\n",
       "3               3  0.078123  0.000000  0.000000  0.079309  Cluster 4\n",
       "4               4  0.000000  0.159151  0.000000  0.000000  Cluster 1\n",
       "..            ...       ...       ...       ...       ...        ...\n",
       "382           396  0.068610  0.094619  0.000000  0.015865  Cluster 1\n",
       "383           397  0.003780  0.049601  0.103745  0.000000  Cluster 2\n",
       "384           398  0.017594  0.102895  0.000000  0.096950  Cluster 1\n",
       "385           399  0.117892  0.022495  0.000000  0.000000  Cluster 2\n",
       "386           400  0.050217  0.062552  0.000000  0.105142  Cluster 1\n",
       "\n",
       "[387 rows x 6 columns]"
      ]
     },
     "execution_count": 9,
     "metadata": {},
     "output_type": "execute_result"
    }
   ],
   "source": [
    "nmf_df"
   ]
  },
  {
   "cell_type": "code",
   "execution_count": 11,
   "metadata": {},
   "outputs": [],
   "source": [
    "#nmf_df.to_csv('../data/NMF_topic_l.csv',index=False)"
   ]
  },
  {
   "cell_type": "code",
   "execution_count": 12,
   "metadata": {},
   "outputs": [],
   "source": [
    "res = pd.DataFrame(columns=topics+['n'], index = clusters+['Total'])\n",
    "for i, cl in enumerate(clusters):\n",
    "    res.loc[cl] = np.round(nmf_df.loc[nmf_df.labels==cl, topics].sum() *100 / nmf_df.loc[nmf_df.labels==cl, topics].sum().sum(),2)\n",
    "    res.loc[cl,'n'] = nmf_df.loc[nmf_df.labels==cl].shape[0]"
   ]
  },
  {
   "cell_type": "code",
   "execution_count": 13,
   "metadata": {},
   "outputs": [],
   "source": [
    "res.loc['Total'] = np.round(nmf_df.loc[:, topics].sum() *100 / nmf_df.loc[:, topics].sum().sum(),2)\n",
    "res.loc['Total','n'] = res.n.sum()"
   ]
  },
  {
   "cell_type": "code",
   "execution_count": 14,
   "metadata": {},
   "outputs": [
    {
     "data": {
      "text/html": [
       "<div>\n",
       "<style scoped>\n",
       "    .dataframe tbody tr th:only-of-type {\n",
       "        vertical-align: middle;\n",
       "    }\n",
       "\n",
       "    .dataframe tbody tr th {\n",
       "        vertical-align: top;\n",
       "    }\n",
       "\n",
       "    .dataframe thead th {\n",
       "        text-align: right;\n",
       "    }\n",
       "</style>\n",
       "<table border=\"1\" class=\"dataframe\">\n",
       "  <thead>\n",
       "    <tr style=\"text-align: right;\">\n",
       "      <th></th>\n",
       "      <th>EL_CON</th>\n",
       "      <th>SIM_ID</th>\n",
       "      <th>DICC</th>\n",
       "      <th>CON_AM</th>\n",
       "      <th>n</th>\n",
       "    </tr>\n",
       "  </thead>\n",
       "  <tbody>\n",
       "    <tr>\n",
       "      <th>Cluster 1</th>\n",
       "      <td>14.76</td>\n",
       "      <td>69.93</td>\n",
       "      <td>0.47</td>\n",
       "      <td>14.85</td>\n",
       "      <td>155</td>\n",
       "    </tr>\n",
       "    <tr>\n",
       "      <th>Cluster 2</th>\n",
       "      <td>45.72</td>\n",
       "      <td>20.35</td>\n",
       "      <td>18.55</td>\n",
       "      <td>15.38</td>\n",
       "      <td>144</td>\n",
       "    </tr>\n",
       "    <tr>\n",
       "      <th>Cluster 3</th>\n",
       "      <td>19.04</td>\n",
       "      <td>1.01</td>\n",
       "      <td>76.24</td>\n",
       "      <td>3.72</td>\n",
       "      <td>14</td>\n",
       "    </tr>\n",
       "    <tr>\n",
       "      <th>Cluster 4</th>\n",
       "      <td>17.91</td>\n",
       "      <td>3.99</td>\n",
       "      <td>8.91</td>\n",
       "      <td>69.19</td>\n",
       "      <td>74</td>\n",
       "    </tr>\n",
       "    <tr>\n",
       "      <th>Total</th>\n",
       "      <td>25.29</td>\n",
       "      <td>34.03</td>\n",
       "      <td>13.97</td>\n",
       "      <td>26.71</td>\n",
       "      <td>387</td>\n",
       "    </tr>\n",
       "  </tbody>\n",
       "</table>\n",
       "</div>"
      ],
      "text/plain": [
       "          EL_CON SIM_ID   DICC CON_AM    n\n",
       "Cluster 1  14.76  69.93   0.47  14.85  155\n",
       "Cluster 2  45.72  20.35  18.55  15.38  144\n",
       "Cluster 3  19.04   1.01  76.24   3.72   14\n",
       "Cluster 4  17.91   3.99   8.91  69.19   74\n",
       "Total      25.29  34.03  13.97  26.71  387"
      ]
     },
     "execution_count": 14,
     "metadata": {},
     "output_type": "execute_result"
    }
   ],
   "source": [
    "res"
   ]
  },
  {
   "cell_type": "code",
   "execution_count": null,
   "metadata": {},
   "outputs": [],
   "source": []
  }
 ],
 "metadata": {
  "kernelspec": {
   "display_name": "Environment (conda_nlp_tc)",
   "language": "python",
   "name": "conda_nlp_tc"
  },
  "language_info": {
   "codemirror_mode": {
    "name": "ipython",
    "version": 3
   },
   "file_extension": ".py",
   "mimetype": "text/x-python",
   "name": "python",
   "nbconvert_exporter": "python",
   "pygments_lexer": "ipython3",
   "version": "3.7.7"
  }
 },
 "nbformat": 4,
 "nbformat_minor": 2
}
