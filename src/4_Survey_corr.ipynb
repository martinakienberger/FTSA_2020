{
 "cells": [
  {
   "cell_type": "markdown",
   "metadata": {},
   "source": [
    "## Free Text Strategies Analysis (FTSA_2020)\n",
    "\n",
    "# Correlation analysis between free text analysis and previous Likert-questions analysis"
   ]
  },
  {
   "cell_type": "markdown",
   "metadata": {},
   "source": [
    "#### Import tools"
   ]
  },
  {
   "cell_type": "code",
   "execution_count": 1,
   "metadata": {},
   "outputs": [
    {
     "name": "stdout",
     "output_type": "stream",
     "text": [
      "Populating the interactive namespace from numpy and matplotlib\n"
     ]
    }
   ],
   "source": [
    "import pandas as pd\n",
    "import numpy as np\n",
    "import pickle\n",
    "import seaborn as sns\n",
    "%pylab inline"
   ]
  },
  {
   "cell_type": "markdown",
   "metadata": {},
   "source": [
    "#### Load and prepare data sets"
   ]
  },
  {
   "cell_type": "code",
   "execution_count": 2,
   "metadata": {},
   "outputs": [],
   "source": [
    "nmf_df = pd.read_csv('../data/NMF_topic_l.csv')"
   ]
  },
  {
   "cell_type": "code",
   "execution_count": 3,
   "metadata": {},
   "outputs": [],
   "source": [
    "factors_A2 = pd.read_csv('../data/FA_weights2.csv', sep=';', decimal=',')\n",
    "factors_A2.rename(columns={'Unnamed: 0':'Qs'}, inplace=True)\n",
    "factors_A2['Qs'] = [val.replace('.','-') for val in factors_A2.Qs.values]\n",
    "factors_A3 = pd.read_csv('../data/FA_weights.csv', sep=';', decimal=',')\n",
    "factors_A3.rename(columns={'Unnamed: 0':'Qs'}, inplace=True)\n",
    "factors_A3['Qs'] = [val.replace('.','-') for val in factors_A3.Qs.values]\n",
    "\n",
    "data_survey = pd.read_excel('../data/Survey_VDS_Kienberger2020.xlsx')\n",
    "data_survey.rename(columns={'Unnamed: 0':'Index_survey'}, inplace=True)\n",
    "\n",
    "P2df_cols = ['Index_survey']+list(factors_A2.Qs)\n",
    "P2df = data_survey[P2df_cols]\n",
    "\n",
    "P3df_cols = ['Index_survey']+list(factors_A3.Qs)\n",
    "P3df = data_survey[P3df_cols]\n",
    "\n",
    "I2 = P2df[list(factors_A2.Qs)].values\n",
    "F2 = factors_A2[['MR1','MR2','MR3']].values\n",
    "\n",
    "IF2 = pd.DataFrame(columns=['Index_survey']+list(factors_A2.columns[1:]))\n",
    "IF2['Index_survey'] = P2df.Index_survey\n",
    "IF2[list(factors_A2.columns[1:])] = np.matmul(I2,F2)\n",
    "IF2.columns = ['Index_survey','MR1x','MR2x','MR3x']\n",
    "\n",
    "I3 = P3df[list(factors_A3.Qs)].values\n",
    "F3 = factors_A3[['MR1','MR2','MR3','MR4','MR5','MR6']].values\n",
    "\n",
    "IF3 = pd.DataFrame(columns=['Index_survey']+list(factors_A3.columns[1:]))\n",
    "IF3['Index_survey'] = P3df.Index_survey\n",
    "IF3[list(factors_A3.columns[1:])] = np.matmul(I3,F3)\n",
    "\n",
    "df_all = pd.merge(pd.merge(nmf_df,IF2,on = \"Index_survey\"),IF3, on = \"Index_survey\")"
   ]
  },
  {
   "cell_type": "markdown",
   "metadata": {},
   "source": [
    "## Relation between `survey` and `commentaries`"
   ]
  },
  {
   "cell_type": "code",
   "execution_count": 4,
   "metadata": {},
   "outputs": [
    {
     "data": {
      "image/png": "[encoded data removed]",
      "text/plain": [
       "<Figure size 720x576 with 2 Axes>"
      ]
     },
     "metadata": {
      "needs_background": "light"
     },
     "output_type": "display_data"
    }
   ],
   "source": [
    "f, ax = plt.subplots(figsize=(10, 8))\n",
    "corr = df_all[df_all.columns[1:]].corr()\n",
    "sns.heatmap(corr, mask=np.zeros_like(corr, dtype=np.bool), cmap=sns.diverging_palette(220, 10, as_cmap=True),\n",
    "            square=True, ax=ax);"
   ]
  },
  {
   "cell_type": "markdown",
   "metadata": {},
   "source": [
    "## Relation between `clusters` (free text / Likert)"
   ]
  },
  {
   "cell_type": "code",
   "execution_count": 8,
   "metadata": {},
   "outputs": [],
   "source": [
    "data_survey[['Index_survey','A-Q2_labels','A-Q3_labels']]\n",
    "\n",
    "df_clust = pd.merge(nmf_df[['Index_survey','labels']],data_survey[['Index_survey','A-Q2_labels','A-Q3_labels']],on = \"Index_survey\")\n",
    "\n",
    "df_clust['labels'] = [int(l[-1]) for l in df_clust.labels]"
   ]
  },
  {
   "cell_type": "code",
   "execution_count": 9,
   "metadata": {},
   "outputs": [
    {
     "data": {
      "image/png": "[encoded data removed]",
      "text/plain": [
       "<Figure size 720x576 with 2 Axes>"
      ]
     },
     "metadata": {
      "needs_background": "light"
     },
     "output_type": "display_data"
    }
   ],
   "source": [
    "import seaborn as sns\n",
    "\n",
    "f, ax = plt.subplots(figsize=(10, 8))\n",
    "corr = df_clust[df_clust.columns[1:]].corr('spearman')\n",
    "sns.heatmap(corr, mask=np.zeros_like(corr, dtype=np.bool), cmap=sns.diverging_palette(220, 10, as_cmap=True),\n",
    "            square=True, ax=ax);"
   ]
  },
  {
   "cell_type": "code",
   "execution_count": 10,
   "metadata": {},
   "outputs": [
    {
     "data": {
      "text/html": [
       "<div>\n",
       "<style scoped>\n",
       "    .dataframe tbody tr th:only-of-type {\n",
       "        vertical-align: middle;\n",
       "    }\n",
       "\n",
       "    .dataframe tbody tr th {\n",
       "        vertical-align: top;\n",
       "    }\n",
       "\n",
       "    .dataframe thead th {\n",
       "        text-align: right;\n",
       "    }\n",
       "</style>\n",
       "<table border=\"1\" class=\"dataframe\">\n",
       "  <thead>\n",
       "    <tr style=\"text-align: right;\">\n",
       "      <th></th>\n",
       "      <th>labels</th>\n",
       "      <th>A-Q2_labels</th>\n",
       "      <th>A-Q3_labels</th>\n",
       "    </tr>\n",
       "  </thead>\n",
       "  <tbody>\n",
       "    <tr>\n",
       "      <th>labels</th>\n",
       "      <td>1.000000</td>\n",
       "      <td>0.085737</td>\n",
       "      <td>0.053460</td>\n",
       "    </tr>\n",
       "    <tr>\n",
       "      <th>A-Q2_labels</th>\n",
       "      <td>0.085737</td>\n",
       "      <td>1.000000</td>\n",
       "      <td>-0.058091</td>\n",
       "    </tr>\n",
       "    <tr>\n",
       "      <th>A-Q3_labels</th>\n",
       "      <td>0.053460</td>\n",
       "      <td>-0.058091</td>\n",
       "      <td>1.000000</td>\n",
       "    </tr>\n",
       "  </tbody>\n",
       "</table>\n",
       "</div>"
      ],
      "text/plain": [
       "               labels  A-Q2_labels  A-Q3_labels\n",
       "labels       1.000000     0.085737     0.053460\n",
       "A-Q2_labels  0.085737     1.000000    -0.058091\n",
       "A-Q3_labels  0.053460    -0.058091     1.000000"
      ]
     },
     "execution_count": 10,
     "metadata": {},
     "output_type": "execute_result"
    }
   ],
   "source": [
    "corr"
   ]
  },
  {
   "cell_type": "code",
   "execution_count": null,
   "metadata": {},
   "outputs": [],
   "source": []
  }
 ],
 "metadata": {
  "kernelspec": {
   "display_name": "Environment (conda_nlp_tc)",
   "language": "python",
   "name": "conda_nlp_tc"
  },
  "language_info": {
   "codemirror_mode": {
    "name": "ipython",
    "version": 3
   },
   "file_extension": ".py",
   "mimetype": "text/x-python",
   "name": "python",
   "nbconvert_exporter": "python",
   "pygments_lexer": "ipython3",
   "version": "3.7.7"
  }
 },
 "nbformat": 4,
 "nbformat_minor": 2
}
