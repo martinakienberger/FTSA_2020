{
 "cells": [
  {
   "cell_type": "code",
   "execution_count": 2,
   "metadata": {},
   "outputs": [
    {
     "name": "stdout",
     "output_type": "stream",
     "text": [
      "Populating the interactive namespace from numpy and matplotlib\n"
     ]
    }
   ],
   "source": [
    "import pandas as pd\n",
    "import pickle\n",
    "pd.set_option('display.max_colwidth', None)\n",
    "\n",
    "from spacy.language import Language\n",
    "\n",
    "\n",
    "import es_core_news_sm\n",
    "nlp = es_core_news_sm.load()\n",
    "from spacy.lang.es.stop_words import STOP_WORDS\n",
    "\n",
    "import re\n",
    "\n",
    "from sklearn.feature_extraction.text import CountVectorizer, TfidfVectorizer\n",
    "from sklearn.pipeline import Pipeline\n",
    "from sklearn.cluster import AgglomerativeClustering\n",
    "from scipy.cluster.hierarchy import dendrogram\n",
    "from sklearn.decomposition import NMF\n",
    "\n",
    "%pylab inline"
   ]
  },
  {
   "cell_type": "markdown",
   "metadata": {},
   "source": [
    "#### Load data set"
   ]
  },
  {
   "cell_type": "code",
   "execution_count": 3,
   "metadata": {},
   "outputs": [],
   "source": [
    "data = pickle.load( open( \"../data/Voc_strat_text.pickle\", \"rb\" ) )"
   ]
  },
  {
   "cell_type": "code",
   "execution_count": 4,
   "metadata": {},
   "outputs": [
    {
     "data": {
      "text/html": [
       "<div>\n",
       "<style scoped>\n",
       "    .dataframe tbody tr th:only-of-type {\n",
       "        vertical-align: middle;\n",
       "    }\n",
       "\n",
       "    .dataframe tbody tr th {\n",
       "        vertical-align: top;\n",
       "    }\n",
       "\n",
       "    .dataframe thead th {\n",
       "        text-align: right;\n",
       "    }\n",
       "</style>\n",
       "<table border=\"1\" class=\"dataframe\">\n",
       "  <thead>\n",
       "    <tr style=\"text-align: right;\">\n",
       "      <th></th>\n",
       "      <th>Index_survey</th>\n",
       "      <th>A-Q1</th>\n",
       "      <th>n_words</th>\n",
       "      <th>clean_text</th>\n",
       "      <th>tokens</th>\n",
       "      <th>lemmas</th>\n",
       "    </tr>\n",
       "  </thead>\n",
       "  <tbody>\n",
       "    <tr>\n",
       "      <th>0</th>\n",
       "      <td>0</td>\n",
       "      <td>Similitud con otros idiomas. Composición con alguna otra palabra en alemán que conozco. Contexto.</td>\n",
       "      <td>14</td>\n",
       "      <td>similitud con otros idiomas. composicion con alguna otra palabra en aleman que conozco. contexto.</td>\n",
       "      <td>[similitud, otros, idiomas, composicion, otra, aleman, conozco, contexto]</td>\n",
       "      <td>[similitud, idioma, composicion, aleman, conocer, contexto]</td>\n",
       "    </tr>\n",
       "    <tr>\n",
       "      <th>1</th>\n",
       "      <td>1</td>\n",
       "      <td>Relaciono terminaciónes, palabras compuestas de las que conozco al menos el significado de una de las partes. Por el contexto: habla de un campamento, por lo que usará vocabulario relacionado.</td>\n",
       "      <td>30</td>\n",
       "      <td>relaciono terminaciones, palabras compuestas de las que conozco al menos el significado de una de las partes. por el contexto: habla de un campamento, por lo que usara vocabulario relacionado.</td>\n",
       "      <td>[relaciono, terminaciones, compuestas, conozco, partes, contexto, campamento, usara, vocabulario, relacionado]</td>\n",
       "      <td>[relacionar, terminación, componer, conocer, partir, contexto, campamento, usar, vocabulario, relacionar]</td>\n",
       "    </tr>\n",
       "    <tr>\n",
       "      <th>2</th>\n",
       "      <td>2</td>\n",
       "      <td>Estoy en un A1.1 de alemán o sea que no sé demasiado pero lo que hago es leer la frase entera y tratar de buscar el contexto en el que puede estar. En el caso de no lograrlo, lo poco que llevo visto de alemán me hace pensar que muchas cosas las puedo sacar del Inglés como, por ejemplo, bed y Bett, o sea que las pronuncio en voz alta como yo creo que se pronuncian para buscar esa similitud con el Inglés. También ayuda mucho el hecho de que los sustantivos siempre van en mayúsculas, por lo que ahí yo ya encuentro una pequeña pista para saber qué puede ser.</td>\n",
       "      <td>111</td>\n",
       "      <td>estoy en un a1.1 de aleman o sea que no se demasiado pero lo que hago es leer la frase entera y tratar de buscar el contexto en el que puede estar. en el caso de no lograrlo, lo poco que llevo visto de aleman me hace pensar que muchas cosas las puedo sacar del ingles como, por ejemplo, bed y bett, o sea que las pronuncio en voz alta como yo creo que se pronuncian para buscar esa similitud con el ingles. tambien ayuda mucho el hecho de que los sustantivos siempre van en mayusculas, por lo que ahi yo ya encuentro una pequeña pista para saber que puede ser.</td>\n",
       "      <td>[a1, aleman, leer, frase, entera, contexto, caso, lograrlo, llevo, visto, aleman, pensar, sacar, ingles, bed, bett, pronuncio, voz, alta, pronuncian, similitud, ingles, sustantivos, mayusculas, encuentro, pequeña, pista]</td>\n",
       "      <td>[aleman, leer, frase, entero, contexto, casar, lograrlo, llevar, vestir, aleman, pensar, sacar, ingle, bed, bett, pronunciar, voz, alto, pronunciar, similitud, ingle, sustantivo, mayusculas, encontrar, pequeño, pistar]</td>\n",
       "    </tr>\n",
       "    <tr>\n",
       "      <th>3</th>\n",
       "      <td>3</td>\n",
       "      <td>Principalmente me fijo en la terminación de la palabra, ya que sé que cuando acaba en ung, eit, ion y demás sufijos suelen ser nombres abstractos, aunque para descubrir la categoría de palabra me fijo principalmente en el contexto, y en caso de que sea palabra compuesta me fijo en cualquiera de las que conozca y trato de intuir qué significa. En este caso \"abgeschirmt\" es desconocida para mí, pero por el contexto y el tema que estamos tratando podría significar inhibir u obviar. Me ayuda principalmente encontrar palabras difíciles en oraciones con una sintaxis simples y con palabras conocidas. en este caso el texto tiene demasiadas palabras desconocidas en algunas partes para poder deducir el significado por contexto, así que imagino lo que significa o principalmente lo omito.</td>\n",
       "      <td>129</td>\n",
       "      <td>principalmente me fijo en la terminacion de la palabra, ya que se que cuando acaba en ung, eit, ion y demas sufijos suelen ser nombres abstractos, aunque para descubrir la categoria de palabra me fijo principalmente en el contexto, y en caso de que sea palabra compuesta me fijo en cualquiera de las que conozca y trato de intuir que significa. en este caso \"abgeschirmt\" es desconocida para mi, pero por el contexto y el tema que estamos tratando podria significar inhibir u obviar. me ayuda principalmente encontrar palabras dificiles en oraciones con una sintaxis simples y con palabras conocidas. en este caso el texto tiene demasiadas palabras desconocidas en algunas partes para poder deducir el significado por contexto, asi que imagino lo que significa o principalmente lo omito.</td>\n",
       "      <td>[fijo, terminacion, acaba, ung, eit, ion, demas, sufijos, suelen, nombres, abstractos, categoria, fijo, contexto, caso, compuesta, fijo, cualquiera, conozca, intuir, caso, abgeschirmt, contexto, tema, tratando, inhibir, obviar, encontrar, dificiles, oraciones, sintaxis, simples, conocidas, caso, texto, demasiadas, partes, deducir, contexto, imagino, omito]</td>\n",
       "      <td>[fijar, terminacion, acabar, ung, eit, ion, demas, sufijo, soler, nombre, abstracto, categoria, fijar, contexto, casar, componer, fijar, cualquiera, conocer, intuir, casar, abgeschirmt, contexto, temer, tratar, inhibir, obviar, encontrar, dificiles, oración, sintaxis, simple, conocido, casar, texto, partir, deducir, contexto, imaginar, omitir]</td>\n",
       "    </tr>\n",
       "    <tr>\n",
       "      <th>4</th>\n",
       "      <td>4</td>\n",
       "      <td>Relacionarlas con palabras conocidas de mi lengua materna o de las lenguas que conozco y aprendo. La ortografía de las palabras o su sonido puede recordarme a otras palabras similares en otros idiomas.</td>\n",
       "      <td>33</td>\n",
       "      <td>relacionarlas con palabras conocidas de mi lengua materna o de las lenguas que conozco y aprendo. la ortografia de las palabras o su sonido puede recordarme a otras palabras similares en otros idiomas.</td>\n",
       "      <td>[relacionarlas, conocidas, lengua, materna, lenguas, conozco, aprendo, ortografia, sonido, recordarme, otras, similares, otros, idiomas]</td>\n",
       "      <td>[relacionarlas, conocido, lengua, materno, lengua, conocer, aprender, ortografia, sonido, recordarme, similar, idioma]</td>\n",
       "    </tr>\n",
       "  </tbody>\n",
       "</table>\n",
       "</div>"
      ],
      "text/plain": [
       "   Index_survey  \\\n",
       "0             0   \n",
       "1             1   \n",
       "2             2   \n",
       "3             3   \n",
       "4             4   \n",
       "\n",
       "                                                                                                                                                                                                                                                                                                                                                                                                                                                                                                                                                                                                                                                                                                                                                                                                                  A-Q1  \\\n",
       "0                                                                                                                                                                                                                                                                                                                                                                                                                                                                                                                                                                                                                                                                                                                    Similitud con otros idiomas. Composición con alguna otra palabra en alemán que conozco. Contexto.   \n",
       "1                                                                                                                                                                                                                                                                                                                                                                                                                                                                                                                                                                                                                     Relaciono terminaciónes, palabras compuestas de las que conozco al menos el significado de una de las partes. Por el contexto: habla de un campamento, por lo que usará vocabulario relacionado.   \n",
       "2                                                                                                                                                                                                                                     Estoy en un A1.1 de alemán o sea que no sé demasiado pero lo que hago es leer la frase entera y tratar de buscar el contexto en el que puede estar. En el caso de no lograrlo, lo poco que llevo visto de alemán me hace pensar que muchas cosas las puedo sacar del Inglés como, por ejemplo, bed y Bett, o sea que las pronuncio en voz alta como yo creo que se pronuncian para buscar esa similitud con el Inglés. También ayuda mucho el hecho de que los sustantivos siempre van en mayúsculas, por lo que ahí yo ya encuentro una pequeña pista para saber qué puede ser.   \n",
       "3  Principalmente me fijo en la terminación de la palabra, ya que sé que cuando acaba en ung, eit, ion y demás sufijos suelen ser nombres abstractos, aunque para descubrir la categoría de palabra me fijo principalmente en el contexto, y en caso de que sea palabra compuesta me fijo en cualquiera de las que conozca y trato de intuir qué significa. En este caso \"abgeschirmt\" es desconocida para mí, pero por el contexto y el tema que estamos tratando podría significar inhibir u obviar. Me ayuda principalmente encontrar palabras difíciles en oraciones con una sintaxis simples y con palabras conocidas. en este caso el texto tiene demasiadas palabras desconocidas en algunas partes para poder deducir el significado por contexto, así que imagino lo que significa o principalmente lo omito.   \n",
       "4                                                                                                                                                                                                                                                                                                                                                                                                                                                                                                                                                                                                           Relacionarlas con palabras conocidas de mi lengua materna o de las lenguas que conozco y aprendo. La ortografía de las palabras o su sonido puede recordarme a otras palabras similares en otros idiomas.    \n",
       "\n",
       "   n_words  \\\n",
       "0       14   \n",
       "1       30   \n",
       "2      111   \n",
       "3      129   \n",
       "4       33   \n",
       "\n",
       "                                                                                                                                                                                                                                                                                                                                                                                                                                                                                                                                                                                                                                                                                                                                                                                                            clean_text  \\\n",
       "0                                                                                                                                                                                                                                                                                                                                                                                                                                                                                                                                                                                                                                                                                                                    similitud con otros idiomas. composicion con alguna otra palabra en aleman que conozco. contexto.   \n",
       "1                                                                                                                                                                                                                                                                                                                                                                                                                                                                                                                                                                                                                     relaciono terminaciones, palabras compuestas de las que conozco al menos el significado de una de las partes. por el contexto: habla de un campamento, por lo que usara vocabulario relacionado.   \n",
       "2                                                                                                                                                                                                                                     estoy en un a1.1 de aleman o sea que no se demasiado pero lo que hago es leer la frase entera y tratar de buscar el contexto en el que puede estar. en el caso de no lograrlo, lo poco que llevo visto de aleman me hace pensar que muchas cosas las puedo sacar del ingles como, por ejemplo, bed y bett, o sea que las pronuncio en voz alta como yo creo que se pronuncian para buscar esa similitud con el ingles. tambien ayuda mucho el hecho de que los sustantivos siempre van en mayusculas, por lo que ahi yo ya encuentro una pequeña pista para saber que puede ser.   \n",
       "3  principalmente me fijo en la terminacion de la palabra, ya que se que cuando acaba en ung, eit, ion y demas sufijos suelen ser nombres abstractos, aunque para descubrir la categoria de palabra me fijo principalmente en el contexto, y en caso de que sea palabra compuesta me fijo en cualquiera de las que conozca y trato de intuir que significa. en este caso \"abgeschirmt\" es desconocida para mi, pero por el contexto y el tema que estamos tratando podria significar inhibir u obviar. me ayuda principalmente encontrar palabras dificiles en oraciones con una sintaxis simples y con palabras conocidas. en este caso el texto tiene demasiadas palabras desconocidas en algunas partes para poder deducir el significado por contexto, asi que imagino lo que significa o principalmente lo omito.   \n",
       "4                                                                                                                                                                                                                                                                                                                                                                                                                                                                                                                                                                                                           relacionarlas con palabras conocidas de mi lengua materna o de las lenguas que conozco y aprendo. la ortografia de las palabras o su sonido puede recordarme a otras palabras similares en otros idiomas.    \n",
       "\n",
       "                                                                                                                                                                                                                                                                                                                                                                   tokens  \\\n",
       "0                                                                                                                                                                                                                                                                                               [similitud, otros, idiomas, composicion, otra, aleman, conozco, contexto]   \n",
       "1                                                                                                                                                                                                                                                          [relaciono, terminaciones, compuestas, conozco, partes, contexto, campamento, usara, vocabulario, relacionado]   \n",
       "2                                                                                                                                            [a1, aleman, leer, frase, entera, contexto, caso, lograrlo, llevo, visto, aleman, pensar, sacar, ingles, bed, bett, pronuncio, voz, alta, pronuncian, similitud, ingles, sustantivos, mayusculas, encuentro, pequeña, pista]   \n",
       "3  [fijo, terminacion, acaba, ung, eit, ion, demas, sufijos, suelen, nombres, abstractos, categoria, fijo, contexto, caso, compuesta, fijo, cualquiera, conozca, intuir, caso, abgeschirmt, contexto, tema, tratando, inhibir, obviar, encontrar, dificiles, oraciones, sintaxis, simples, conocidas, caso, texto, demasiadas, partes, deducir, contexto, imagino, omito]   \n",
       "4                                                                                                                                                                                                                                [relacionarlas, conocidas, lengua, materna, lenguas, conozco, aprendo, ortografia, sonido, recordarme, otras, similares, otros, idiomas]   \n",
       "\n",
       "                                                                                                                                                                                                                                                                                                                                                      lemmas  \n",
       "0                                                                                                                                                                                                                                                                                                [similitud, idioma, composicion, aleman, conocer, contexto]  \n",
       "1                                                                                                                                                                                                                                                  [relacionar, terminación, componer, conocer, partir, contexto, campamento, usar, vocabulario, relacionar]  \n",
       "2                                                                                                                                 [aleman, leer, frase, entero, contexto, casar, lograrlo, llevar, vestir, aleman, pensar, sacar, ingle, bed, bett, pronunciar, voz, alto, pronunciar, similitud, ingle, sustantivo, mayusculas, encontrar, pequeño, pistar]  \n",
       "3  [fijar, terminacion, acabar, ung, eit, ion, demas, sufijo, soler, nombre, abstracto, categoria, fijar, contexto, casar, componer, fijar, cualquiera, conocer, intuir, casar, abgeschirmt, contexto, temer, tratar, inhibir, obviar, encontrar, dificiles, oración, sintaxis, simple, conocido, casar, texto, partir, deducir, contexto, imaginar, omitir]  \n",
       "4                                                                                                                                                                                                                                     [relacionarlas, conocido, lengua, materno, lengua, conocer, aprender, ortografia, sonido, recordarme, similar, idioma]  "
      ]
     },
     "execution_count": 4,
     "metadata": {},
     "output_type": "execute_result"
    }
   ],
   "source": [
    "data.head()"
   ]
  },
  {
   "cell_type": "markdown",
   "metadata": {},
   "source": [
    "#### Stop-words"
   ]
  },
  {
   "cell_type": "code",
   "execution_count": 5,
   "metadata": {},
   "outputs": [],
   "source": [
    "not_stop_words = ['breve','cuanta', 'cuantas', 'cuanto', 'cuantos', 'diferente', 'diferentes', 'donde',\n",
    "                 'enseguida', 'excepto', 'junto', 'otra', 'otras', 'otro', 'otros', 'pasada', 'pasado', 'propia', 'propias',\n",
    "                 'propio', 'propios', 'proximo','proximos', 'siguiente', 'ultimo', 'ultima', 'ultimos', 'ultimas']\n",
    "# general, gran, grandes, incluso, lado, largo, mediante, mientras, mucho/a/s, ningun/o/a/s, posible, primer/a/s, principalmente,\n",
    "# raras, segunda/o, tambien, tercera, toda/o/s\n",
    "# como, ejemplo\n",
    "\n",
    "for word in not_stop_words:\n",
    "    nlp.vocab[word].is_stop = False\n",
    "\n",
    "STOP_WORDS = [word for word in STOP_WORDS if word not in not_stop_words]"
   ]
  },
  {
   "cell_type": "code",
   "execution_count": 6,
   "metadata": {},
   "outputs": [],
   "source": [
    "new_stop_words = ['palabra', 'palabras', 'significa', 'significan', 'significar', 'significado', 'significados', 'averiguo', 'averiguar',\n",
    "                 'busco','buscar','descubro', 'descubrir', 'desconocida', 'desconocidas', 'desconocido', 'desconocidos',\n",
    "                'desconozco','trato','tratar','intento','intentar','suelo','normalmente','ayuda','ayudan', 'gracias',\n",
    "                 'entender','entenderla','entenderlas','entenderlo','comprender','comprenderla','comprenderlas',\n",
    "                 'uso','usar','utilizo','utilizar','utilizando','algun','estrategia','estrategias','tecnica','tecnicas',\n",
    "                 'miro','mirar','etc']\n",
    "\n",
    "for word in new_stop_words:\n",
    "    nlp.vocab[word].is_stop = True\n",
    "\n",
    "STOP_WORDS += new_stop_words"
   ]
  },
  {
   "cell_type": "markdown",
   "metadata": {},
   "source": [
    "#### Functions"
   ]
  },
  {
   "cell_type": "code",
   "execution_count": 7,
   "metadata": {},
   "outputs": [],
   "source": [
    "def plot_dendrogram(model, **kwargs):\n",
    "    # Create linkage matrix and then plot the dendrogram\n",
    "\n",
    "    # create the counts of samples under each node\n",
    "    counts = np.zeros(model.children_.shape[0])\n",
    "    n_samples = len(model.labels_)\n",
    "    for i, merge in enumerate(model.children_):\n",
    "        current_count = 0\n",
    "        for child_idx in merge:\n",
    "            if child_idx < n_samples:\n",
    "                current_count += 1  # leaf node\n",
    "            else:\n",
    "                current_count += counts[child_idx - n_samples]\n",
    "        counts[i] = current_count\n",
    "\n",
    "    linkage_matrix = np.column_stack([model.children_, model.distances_,\n",
    "                                      counts]).astype(float)\n",
    "\n",
    "    # Plot the corresponding dendrogram\n",
    "    dendrogram(linkage_matrix, **kwargs)"
   ]
  },
  {
   "cell_type": "code",
   "execution_count": 8,
   "metadata": {},
   "outputs": [],
   "source": [
    "def print_top_words(model, feature_names, n_top_words):\n",
    "    for topic_idx, topic in enumerate(model.components_):\n",
    "        message = \"Topic #%d: \" % topic_idx\n",
    "        message += \" \".join([feature_names[i]\n",
    "                             for i in topic.argsort()[:-n_top_words - 1:-1]])\n",
    "        print(message)\n",
    "    print()"
   ]
  },
  {
   "cell_type": "code",
   "execution_count": 9,
   "metadata": {},
   "outputs": [],
   "source": [
    "def NMF_results(line, Z_transf):\n",
    "    res = pd.DataFrame(columns=['txt','EL_CON','SIM_ID','DICC','CON_AM'])\n",
    "    \n",
    "    txt = line['A-Q1'].values\n",
    "    ind = line.index[0]\n",
    "    vec = Z_transf[ind,:]*100 / Z_transf[ind,:].sum()\n",
    "\n",
    "    return list(vec)+list(txt)"
   ]
  },
  {
   "cell_type": "markdown",
   "metadata": {},
   "source": [
    "## Td-Idf"
   ]
  },
  {
   "cell_type": "code",
   "execution_count": 10,
   "metadata": {},
   "outputs": [],
   "source": [
    "datacl = data['clean_text']\n",
    "\n",
    "vectorizer = TfidfVectorizer(ngram_range=(1,1),stop_words=STOP_WORDS, min_df=5)\n",
    "docs = vectorizer.fit_transform([str(l) for l in list(datacl.values)])\n",
    "docs_arr = docs.toarray()\n",
    "features   = vectorizer.get_feature_names()\n",
    "Z=pd.DataFrame(docs_arr, columns=features)"
   ]
  },
  {
   "cell_type": "code",
   "execution_count": 11,
   "metadata": {},
   "outputs": [
    {
     "data": {
      "text/html": [
       "<div>\n",
       "<style scoped>\n",
       "    .dataframe tbody tr th:only-of-type {\n",
       "        vertical-align: middle;\n",
       "    }\n",
       "\n",
       "    .dataframe tbody tr th {\n",
       "        vertical-align: top;\n",
       "    }\n",
       "\n",
       "    .dataframe thead th {\n",
       "        text-align: right;\n",
       "    }\n",
       "</style>\n",
       "<table border=\"1\" class=\"dataframe\">\n",
       "  <thead>\n",
       "    <tr style=\"text-align: right;\">\n",
       "      <th></th>\n",
       "      <th>acompaña</th>\n",
       "      <th>adivinar</th>\n",
       "      <th>adjetivo</th>\n",
       "      <th>adjetivos</th>\n",
       "      <th>aleman</th>\n",
       "      <th>alemanas</th>\n",
       "      <th>analizar</th>\n",
       "      <th>analizo</th>\n",
       "      <th>aproximado</th>\n",
       "      <th>articulo</th>\n",
       "      <th>...</th>\n",
       "      <th>ung</th>\n",
       "      <th>util</th>\n",
       "      <th>veo</th>\n",
       "      <th>verbo</th>\n",
       "      <th>verbos</th>\n",
       "      <th>viene</th>\n",
       "      <th>visto</th>\n",
       "      <th>vocabulario</th>\n",
       "      <th>whatsapp</th>\n",
       "      <th>yoga</th>\n",
       "    </tr>\n",
       "  </thead>\n",
       "  <tbody>\n",
       "    <tr>\n",
       "      <th>0</th>\n",
       "      <td>0.0</td>\n",
       "      <td>0.0</td>\n",
       "      <td>0.0</td>\n",
       "      <td>0.0</td>\n",
       "      <td>0.345450</td>\n",
       "      <td>0.0</td>\n",
       "      <td>0.0</td>\n",
       "      <td>0.0</td>\n",
       "      <td>0.0</td>\n",
       "      <td>0.0</td>\n",
       "      <td>...</td>\n",
       "      <td>0.00000</td>\n",
       "      <td>0.0</td>\n",
       "      <td>0.0</td>\n",
       "      <td>0.0</td>\n",
       "      <td>0.0</td>\n",
       "      <td>0.0</td>\n",
       "      <td>0.000000</td>\n",
       "      <td>0.000000</td>\n",
       "      <td>0.0</td>\n",
       "      <td>0.0</td>\n",
       "    </tr>\n",
       "    <tr>\n",
       "      <th>1</th>\n",
       "      <td>0.0</td>\n",
       "      <td>0.0</td>\n",
       "      <td>0.0</td>\n",
       "      <td>0.0</td>\n",
       "      <td>0.000000</td>\n",
       "      <td>0.0</td>\n",
       "      <td>0.0</td>\n",
       "      <td>0.0</td>\n",
       "      <td>0.0</td>\n",
       "      <td>0.0</td>\n",
       "      <td>...</td>\n",
       "      <td>0.00000</td>\n",
       "      <td>0.0</td>\n",
       "      <td>0.0</td>\n",
       "      <td>0.0</td>\n",
       "      <td>0.0</td>\n",
       "      <td>0.0</td>\n",
       "      <td>0.000000</td>\n",
       "      <td>0.389066</td>\n",
       "      <td>0.0</td>\n",
       "      <td>0.0</td>\n",
       "    </tr>\n",
       "    <tr>\n",
       "      <th>2</th>\n",
       "      <td>0.0</td>\n",
       "      <td>0.0</td>\n",
       "      <td>0.0</td>\n",
       "      <td>0.0</td>\n",
       "      <td>0.378828</td>\n",
       "      <td>0.0</td>\n",
       "      <td>0.0</td>\n",
       "      <td>0.0</td>\n",
       "      <td>0.0</td>\n",
       "      <td>0.0</td>\n",
       "      <td>...</td>\n",
       "      <td>0.00000</td>\n",
       "      <td>0.0</td>\n",
       "      <td>0.0</td>\n",
       "      <td>0.0</td>\n",
       "      <td>0.0</td>\n",
       "      <td>0.0</td>\n",
       "      <td>0.316889</td>\n",
       "      <td>0.000000</td>\n",
       "      <td>0.0</td>\n",
       "      <td>0.0</td>\n",
       "    </tr>\n",
       "    <tr>\n",
       "      <th>3</th>\n",
       "      <td>0.0</td>\n",
       "      <td>0.0</td>\n",
       "      <td>0.0</td>\n",
       "      <td>0.0</td>\n",
       "      <td>0.000000</td>\n",
       "      <td>0.0</td>\n",
       "      <td>0.0</td>\n",
       "      <td>0.0</td>\n",
       "      <td>0.0</td>\n",
       "      <td>0.0</td>\n",
       "      <td>...</td>\n",
       "      <td>0.21187</td>\n",
       "      <td>0.0</td>\n",
       "      <td>0.0</td>\n",
       "      <td>0.0</td>\n",
       "      <td>0.0</td>\n",
       "      <td>0.0</td>\n",
       "      <td>0.000000</td>\n",
       "      <td>0.000000</td>\n",
       "      <td>0.0</td>\n",
       "      <td>0.0</td>\n",
       "    </tr>\n",
       "    <tr>\n",
       "      <th>4</th>\n",
       "      <td>0.0</td>\n",
       "      <td>0.0</td>\n",
       "      <td>0.0</td>\n",
       "      <td>0.0</td>\n",
       "      <td>0.000000</td>\n",
       "      <td>0.0</td>\n",
       "      <td>0.0</td>\n",
       "      <td>0.0</td>\n",
       "      <td>0.0</td>\n",
       "      <td>0.0</td>\n",
       "      <td>...</td>\n",
       "      <td>0.00000</td>\n",
       "      <td>0.0</td>\n",
       "      <td>0.0</td>\n",
       "      <td>0.0</td>\n",
       "      <td>0.0</td>\n",
       "      <td>0.0</td>\n",
       "      <td>0.000000</td>\n",
       "      <td>0.000000</td>\n",
       "      <td>0.0</td>\n",
       "      <td>0.0</td>\n",
       "    </tr>\n",
       "  </tbody>\n",
       "</table>\n",
       "<p>5 rows × 207 columns</p>\n",
       "</div>"
      ],
      "text/plain": [
       "   acompaña  adivinar  adjetivo  adjetivos    aleman  alemanas  analizar  \\\n",
       "0       0.0       0.0       0.0        0.0  0.345450       0.0       0.0   \n",
       "1       0.0       0.0       0.0        0.0  0.000000       0.0       0.0   \n",
       "2       0.0       0.0       0.0        0.0  0.378828       0.0       0.0   \n",
       "3       0.0       0.0       0.0        0.0  0.000000       0.0       0.0   \n",
       "4       0.0       0.0       0.0        0.0  0.000000       0.0       0.0   \n",
       "\n",
       "   analizo  aproximado  articulo  ...      ung  util  veo  verbo  verbos  \\\n",
       "0      0.0         0.0       0.0  ...  0.00000   0.0  0.0    0.0     0.0   \n",
       "1      0.0         0.0       0.0  ...  0.00000   0.0  0.0    0.0     0.0   \n",
       "2      0.0         0.0       0.0  ...  0.00000   0.0  0.0    0.0     0.0   \n",
       "3      0.0         0.0       0.0  ...  0.21187   0.0  0.0    0.0     0.0   \n",
       "4      0.0         0.0       0.0  ...  0.00000   0.0  0.0    0.0     0.0   \n",
       "\n",
       "   viene     visto  vocabulario  whatsapp  yoga  \n",
       "0    0.0  0.000000     0.000000       0.0   0.0  \n",
       "1    0.0  0.000000     0.389066       0.0   0.0  \n",
       "2    0.0  0.316889     0.000000       0.0   0.0  \n",
       "3    0.0  0.000000     0.000000       0.0   0.0  \n",
       "4    0.0  0.000000     0.000000       0.0   0.0  \n",
       "\n",
       "[5 rows x 207 columns]"
      ]
     },
     "execution_count": 11,
     "metadata": {},
     "output_type": "execute_result"
    }
   ],
   "source": [
    "Z.head()"
   ]
  },
  {
   "cell_type": "markdown",
   "metadata": {},
   "source": [
    "## NMF"
   ]
  },
  {
   "cell_type": "code",
   "execution_count": 12,
   "metadata": {},
   "outputs": [],
   "source": [
    "n_topics = 4\n",
    "nmfFR = NMF(n_components=n_topics, random_state=0,\n",
    "          alpha=.1, l1_ratio=.5).fit(Z)"
   ]
  },
  {
   "cell_type": "code",
   "execution_count": 13,
   "metadata": {},
   "outputs": [],
   "source": [
    "voc_top = pd.DataFrame(nmfFR.components_, columns=features,index=['EL_CON','SIM_ID','DICC','CON_AM']).T"
   ]
  },
  {
   "cell_type": "code",
   "execution_count": 14,
   "metadata": {},
   "outputs": [
    {
     "name": "stdout",
     "output_type": "stream",
     "text": [
      "Topic #0: contexto conozco compuesta otras sacar fijo verbo compuestas frase conozca oracion deducir entiendo raiz otra\n",
      "Topic #1: ingles idiomas español conozco otros otras parecido aleman similitud lenguas similares parecidas parecen frances deducir\n",
      "Topic #2: diccionario idioma otro traductor aleman online comprendo resulta similitud intuir otras fijo completa pons leo\n",
      "Topic #3: texto frase leo entiendo leer idea tema verbos sentido deducir caso compuestas resto comprension tipo\n",
      "\n"
     ]
    }
   ],
   "source": [
    "print_top_words(nmfFR,features , 15)"
   ]
  },
  {
   "cell_type": "markdown",
   "metadata": {},
   "source": [
    "### Data Transformation"
   ]
  },
  {
   "cell_type": "code",
   "execution_count": 15,
   "metadata": {},
   "outputs": [],
   "source": [
    "Z_transf = nmfFR.transform(Z)\n",
    "\n",
    "NMF_data = pd.DataFrame(columns=['Index_survey','Topic_0','Topic_1','Topic_2','Topic_3'])"
   ]
  },
  {
   "cell_type": "code",
   "execution_count": 16,
   "metadata": {},
   "outputs": [],
   "source": [
    "NMF_data['Index_survey'] = data.Index_survey.values\n",
    "NMF_data[['Topic_0','Topic_1','Topic_2','Topic_3']] = Z_transf\n",
    "NMF_data_n = NMF_data.rename(columns={'Topic_0':'EL_CON',\n",
    "                                     'Topic_1':'SIM_ID',\n",
    "                                     'Topic_2':'DICC',\n",
    "                                     'Topic_3':'CON_AM'})"
   ]
  },
  {
   "cell_type": "code",
   "execution_count": 17,
   "metadata": {},
   "outputs": [],
   "source": [
    "#NMF_data_n.to_csv('data/NMF_topic_n.csv', index=False)"
   ]
  },
  {
   "cell_type": "markdown",
   "metadata": {},
   "source": [
    "### Examples"
   ]
  },
  {
   "cell_type": "code",
   "execution_count": 18,
   "metadata": {},
   "outputs": [],
   "source": [
    "inds = [4, 75, 78, 93, 354, 369, 142]"
   ]
  },
  {
   "cell_type": "code",
   "execution_count": 19,
   "metadata": {},
   "outputs": [],
   "source": [
    "examples = pd.DataFrame(columns=['EL_CON', 'SIM_ID', 'DICC', 'CON_AM','txt'])"
   ]
  },
  {
   "cell_type": "code",
   "execution_count": 20,
   "metadata": {},
   "outputs": [],
   "source": [
    "for el in inds:\n",
    "    examples.loc[el] = NMF_results(data[data.Index_survey == el], Z_transf)"
   ]
  },
  {
   "cell_type": "code",
   "execution_count": 21,
   "metadata": {},
   "outputs": [
    {
     "data": {
      "text/html": [
       "<div>\n",
       "<style scoped>\n",
       "    .dataframe tbody tr th:only-of-type {\n",
       "        vertical-align: middle;\n",
       "    }\n",
       "\n",
       "    .dataframe tbody tr th {\n",
       "        vertical-align: top;\n",
       "    }\n",
       "\n",
       "    .dataframe thead th {\n",
       "        text-align: right;\n",
       "    }\n",
       "</style>\n",
       "<table border=\"1\" class=\"dataframe\">\n",
       "  <thead>\n",
       "    <tr style=\"text-align: right;\">\n",
       "      <th></th>\n",
       "      <th>EL_CON</th>\n",
       "      <th>SIM_ID</th>\n",
       "      <th>DICC</th>\n",
       "      <th>CON_AM</th>\n",
       "      <th>txt</th>\n",
       "    </tr>\n",
       "  </thead>\n",
       "  <tbody>\n",
       "    <tr>\n",
       "      <th>4</th>\n",
       "      <td>0.000000</td>\n",
       "      <td>100.000000</td>\n",
       "      <td>0.000000</td>\n",
       "      <td>0.000000</td>\n",
       "      <td>Relacionarlas con palabras conocidas de mi lengua materna o de las lenguas que conozco y aprendo. La ortografía de las palabras o su sonido puede recordarme a otras palabras similares en otros idiomas.</td>\n",
       "    </tr>\n",
       "    <tr>\n",
       "      <th>75</th>\n",
       "      <td>34.145618</td>\n",
       "      <td>0.000000</td>\n",
       "      <td>0.000000</td>\n",
       "      <td>65.854382</td>\n",
       "      <td>Me fijo en el contexto, trato de averiguar el significado a partir de la etimología o de las palabras que forman los compuestos. Trato de entender el texto globalmente para comprender el tema del que se habla antes de imaginar lo que puede significar cada término.</td>\n",
       "    </tr>\n",
       "    <tr>\n",
       "      <th>78</th>\n",
       "      <td>13.453096</td>\n",
       "      <td>60.981811</td>\n",
       "      <td>0.000000</td>\n",
       "      <td>25.565093</td>\n",
       "      <td>Primero busco palabras que se parezcan a los idiomas que ya domino, como el español o el inglés y después intento entender qué significan las otras palabras gracias al contexto o a información que se me de acerca del texto.</td>\n",
       "    </tr>\n",
       "    <tr>\n",
       "      <th>93</th>\n",
       "      <td>26.422278</td>\n",
       "      <td>0.000000</td>\n",
       "      <td>53.627408</td>\n",
       "      <td>19.950314</td>\n",
       "      <td>Por lo general, si lo tengo a mano, tiendo a buscar palabras desconocidas en el diccionario, aunque no todas, ya que muchas de ellas consigo entenderlas por el contexto de la situación mientras estoy leyendo. Cuando no tengo el diccionario a mano, me fijo, lo primero, en si es un nombre o no, y dependiendo de eso, intento darle vueltas al significado teniendo en cuenta el contexto y mirando si es una palabra simple o compuesta, la función que está desempeñando en la frase, etc. A partir de ahí, si no obtengo el significado concreto, siempre consigo, al menos, una idea de lo que quiere decir.</td>\n",
       "    </tr>\n",
       "    <tr>\n",
       "      <th>354</th>\n",
       "      <td>97.959573</td>\n",
       "      <td>0.000000</td>\n",
       "      <td>0.000000</td>\n",
       "      <td>2.040427</td>\n",
       "      <td>A mi en lo personal, me ayuda el contexto en caso de no conocer cierta palabra. Y si ya ni con la ayuda del contexto lo puedo averiguar, intento separar la palabra si es compuesta o buscar su procedencia.</td>\n",
       "    </tr>\n",
       "    <tr>\n",
       "      <th>369</th>\n",
       "      <td>0.000000</td>\n",
       "      <td>0.000000</td>\n",
       "      <td>100.000000</td>\n",
       "      <td>0.000000</td>\n",
       "      <td>Aprendo palabras desconocidas con el diccionario y subrayandolas posteriormente.</td>\n",
       "    </tr>\n",
       "    <tr>\n",
       "      <th>142</th>\n",
       "      <td>58.255317</td>\n",
       "      <td>0.000000</td>\n",
       "      <td>0.000000</td>\n",
       "      <td>41.744683</td>\n",
       "      <td>Contexto de la frase</td>\n",
       "    </tr>\n",
       "  </tbody>\n",
       "</table>\n",
       "</div>"
      ],
      "text/plain": [
       "        EL_CON      SIM_ID        DICC     CON_AM  \\\n",
       "4     0.000000  100.000000    0.000000   0.000000   \n",
       "75   34.145618    0.000000    0.000000  65.854382   \n",
       "78   13.453096   60.981811    0.000000  25.565093   \n",
       "93   26.422278    0.000000   53.627408  19.950314   \n",
       "354  97.959573    0.000000    0.000000   2.040427   \n",
       "369   0.000000    0.000000  100.000000   0.000000   \n",
       "142  58.255317    0.000000    0.000000  41.744683   \n",
       "\n",
       "                                                                                                                                                                                                                                                                                                                                                                                                                                                                                                                                                                                                                        txt  \n",
       "4                                                                                                                                                                                                                                                                                                                                                                                                                Relacionarlas con palabras conocidas de mi lengua materna o de las lenguas que conozco y aprendo. La ortografía de las palabras o su sonido puede recordarme a otras palabras similares en otros idiomas.   \n",
       "75                                                                                                                                                                                                                                                                                                                                                Me fijo en el contexto, trato de averiguar el significado a partir de la etimología o de las palabras que forman los compuestos. Trato de entender el texto globalmente para comprender el tema del que se habla antes de imaginar lo que puede significar cada término.   \n",
       "78                                                                                                                                                                                                                                                                                                                                                                                         Primero busco palabras que se parezcan a los idiomas que ya domino, como el español o el inglés y después intento entender qué significan las otras palabras gracias al contexto o a información que se me de acerca del texto.   \n",
       "93   Por lo general, si lo tengo a mano, tiendo a buscar palabras desconocidas en el diccionario, aunque no todas, ya que muchas de ellas consigo entenderlas por el contexto de la situación mientras estoy leyendo. Cuando no tengo el diccionario a mano, me fijo, lo primero, en si es un nombre o no, y dependiendo de eso, intento darle vueltas al significado teniendo en cuenta el contexto y mirando si es una palabra simple o compuesta, la función que está desempeñando en la frase, etc. A partir de ahí, si no obtengo el significado concreto, siempre consigo, al menos, una idea de lo que quiere decir.  \n",
       "354                                                                                                                                                                                                                                                                                                                                                                                                            A mi en lo personal, me ayuda el contexto en caso de no conocer cierta palabra. Y si ya ni con la ayuda del contexto lo puedo averiguar, intento separar la palabra si es compuesta o buscar su procedencia.  \n",
       "369                                                                                                                                                                                                                                                                                                                                                                                                                                                                                                                                        Aprendo palabras desconocidas con el diccionario y subrayandolas posteriormente.  \n",
       "142                                                                                                                                                                                                                                                                                                                                                                                                                                                                                                                                                                                                    Contexto de la frase  "
      ]
     },
     "execution_count": 21,
     "metadata": {},
     "output_type": "execute_result"
    }
   ],
   "source": [
    "examples"
   ]
  },
  {
   "cell_type": "code",
   "execution_count": null,
   "metadata": {},
   "outputs": [],
   "source": []
  }
 ],
 "metadata": {
  "kernelspec": {
   "display_name": "Environment (conda_nlp_tc)",
   "language": "python",
   "name": "conda_nlp_tc"
  },
  "language_info": {
   "codemirror_mode": {
    "name": "ipython",
    "version": 3
   },
   "file_extension": ".py",
   "mimetype": "text/x-python",
   "name": "python",
   "nbconvert_exporter": "python",
   "pygments_lexer": "ipython3",
   "version": "3.7.7"
  }
 },
 "nbformat": 4,
 "nbformat_minor": 2
}
